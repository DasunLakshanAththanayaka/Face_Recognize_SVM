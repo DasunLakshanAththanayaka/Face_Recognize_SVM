{
 "cells": [
  {
   "cell_type": "code",
   "execution_count": 1,
   "id": "baf43e8d",
   "metadata": {},
   "outputs": [],
   "source": [
    "import joblib\n",
    "\n",
    "model=joblib.load('SVM-Face Recognition.sav')"
   ]
  },
  {
   "cell_type": "code",
   "execution_count": 2,
   "id": "f8b9deb5",
   "metadata": {},
   "outputs": [],
   "source": [
    "category_dict={0:'Barack Obama',1:'Donald Trump',2:'George W Bush'}"
   ]
  },
  {
   "cell_type": "code",
   "execution_count": null,
   "id": "183c36af",
   "metadata": {},
   "outputs": [
    {
     "name": "stdout",
     "output_type": "stream",
     "text": [
      "['barack-obama-12782369-1-402.jpg', 'barack-obama.jpeg', 'https___d1e00ek4ebabms.cloudfront.net_production_b8c5ac6e-d1ec-467a-b185-a5c7b2fc1c9b.jpg', 'president-george-w-bush-listens-to-a-question-during-a-news-news-photo-1591807580.jpg', 'screen_shot_2020-06-07_at_9.28.05_am.png', 'trump.jpg']\n"
     ]
    }
   ],
   "source": [
    "test_data_path='test_data'\n",
    "\n",
    "import os\n",
    "import cv2\n",
    "\n",
    "face_classifier=cv2.CascadeClassifier('haarcascade_frontalface_default.xml')\n",
    "\n",
    "test_img_names=os.listdir(test_data_path)\n",
    "print(test_img_names)\n",
    "\n"
   ]
  },
  {
   "cell_type": "code",
   "execution_count": null,
   "id": "0fabd304",
   "metadata": {},
   "outputs": [],
   "source": []
  }
 ],
 "metadata": {
  "kernelspec": {
   "display_name": "testone",
   "language": "python",
   "name": "python3"
  },
  "language_info": {
   "codemirror_mode": {
    "name": "ipython",
    "version": 3
   },
   "file_extension": ".py",
   "mimetype": "text/x-python",
   "name": "python",
   "nbconvert_exporter": "python",
   "pygments_lexer": "ipython3",
   "version": "3.11.11"
  }
 },
 "nbformat": 4,
 "nbformat_minor": 5
}
